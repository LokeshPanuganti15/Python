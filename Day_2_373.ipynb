{
  "cells": [
    {
      "cell_type": "markdown",
      "metadata": {
        "id": "view-in-github",
        "colab_type": "text"
      },
      "source": [
        "<a href=\"https://colab.research.google.com/github/LokeshPanuganti15/Python/blob/main/Day_2_373.ipynb\" target=\"_parent\"><img src=\"https://colab.research.google.com/assets/colab-badge.svg\" alt=\"Open In Colab\"/></a>"
      ]
    },
    {
      "cell_type": "markdown",
      "id": "303f9a08-04c5-4cc8-84a2-5a75e81562a3",
      "metadata": {
        "id": "303f9a08-04c5-4cc8-84a2-5a75e81562a3"
      },
      "source": [
        "# Arithmetic operators"
      ]
    },
    {
      "cell_type": "markdown",
      "id": "a7146528-6e56-469b-b33c-a2554ee2c3a6",
      "metadata": {
        "id": "a7146528-6e56-469b-b33c-a2554ee2c3a6"
      },
      "source": [
        "Addition +\n",
        "Subtraction -\n",
        "Multiplication *\n",
        "Division /\n",
        "Modulus %\n",
        "Power *"
      ]
    },
    {
      "cell_type": "code",
      "execution_count": null,
      "id": "5477b685-fd8a-4321-9f69-93cd6901430f",
      "metadata": {
        "id": "5477b685-fd8a-4321-9f69-93cd6901430f",
        "outputId": "5c36bca5-5f6c-4ba1-a6fb-caeab1e7a351"
      },
      "outputs": [
        {
          "data": {
            "text/plain": [
              "14"
            ]
          },
          "execution_count": 47,
          "metadata": {},
          "output_type": "execute_result"
        }
      ],
      "source": [
        "7+7"
      ]
    },
    {
      "cell_type": "code",
      "execution_count": null,
      "id": "16df30b7-9c8a-4530-9a22-412f43611731",
      "metadata": {
        "id": "16df30b7-9c8a-4530-9a22-412f43611731",
        "outputId": "77dcd599-a233-4a7b-a37b-a6a3335d3ab1"
      },
      "outputs": [
        {
          "data": {
            "text/plain": [
              "57"
            ]
          },
          "execution_count": 4,
          "metadata": {},
          "output_type": "execute_result"
        }
      ],
      "source": [
        "90-33"
      ]
    },
    {
      "cell_type": "markdown",
      "source": [],
      "metadata": {
        "id": "85usOD_3ifCU"
      },
      "id": "85usOD_3ifCU"
    },
    {
      "cell_type": "code",
      "execution_count": null,
      "id": "83e03dc6-e527-4da2-a451-73942e7fa81d",
      "metadata": {
        "id": "83e03dc6-e527-4da2-a451-73942e7fa81d",
        "outputId": "8e77c5e0-ef9c-4e07-af06-7b20d07713f7"
      },
      "outputs": [
        {
          "data": {
            "text/plain": [
              "2178"
            ]
          },
          "execution_count": 6,
          "metadata": {},
          "output_type": "execute_result"
        }
      ],
      "source": [
        "33*66"
      ]
    },
    {
      "cell_type": "code",
      "execution_count": null,
      "id": "000fa34a-8ae8-4755-abf3-ed6b43dcf010",
      "metadata": {
        "id": "000fa34a-8ae8-4755-abf3-ed6b43dcf010",
        "outputId": "9360755f-8545-4171-8ee2-6bee24ef525b"
      },
      "outputs": [
        {
          "data": {
            "text/plain": [
              "33.0"
            ]
          },
          "execution_count": 8,
          "metadata": {},
          "output_type": "execute_result"
        }
      ],
      "source": [
        "66/2"
      ]
    },
    {
      "cell_type": "code",
      "execution_count": null,
      "id": "69cfb782-ea0d-4255-9195-3199786b314e",
      "metadata": {
        "id": "69cfb782-ea0d-4255-9195-3199786b314e",
        "outputId": "5fe09298-34f2-4f7a-8fc9-3cfc8df84f32"
      },
      "outputs": [
        {
          "data": {
            "text/plain": [
              "198"
            ]
          },
          "execution_count": 10,
          "metadata": {},
          "output_type": "execute_result"
        }
      ],
      "source": [
        "99*2"
      ]
    },
    {
      "cell_type": "code",
      "execution_count": null,
      "id": "3ae27b8a-8f18-4b5a-8df0-bcb2a8286894",
      "metadata": {
        "id": "3ae27b8a-8f18-4b5a-8df0-bcb2a8286894",
        "outputId": "4e3f8444-4332-45d4-8d75-77f79b955037"
      },
      "outputs": [
        {
          "data": {
            "text/plain": [
              "9801"
            ]
          },
          "execution_count": 12,
          "metadata": {},
          "output_type": "execute_result"
        }
      ],
      "source": [
        "99**2"
      ]
    },
    {
      "cell_type": "code",
      "execution_count": null,
      "id": "87c80af4-e46b-4fc4-bbbe-547c7190157f",
      "metadata": {
        "id": "87c80af4-e46b-4fc4-bbbe-547c7190157f",
        "outputId": "fbc1112a-a1d3-4310-813a-c3b1217d91b1"
      },
      "outputs": [
        {
          "data": {
            "text/plain": [
              "12"
            ]
          },
          "execution_count": 14,
          "metadata": {},
          "output_type": "execute_result"
        }
      ],
      "source": [
        "a=8\n",
        "b=4\n",
        "a+b"
      ]
    },
    {
      "cell_type": "code",
      "execution_count": null,
      "id": "a4915178-9d35-4605-a44a-5d906c606431",
      "metadata": {
        "id": "a4915178-9d35-4605-a44a-5d906c606431",
        "outputId": "05be4c7c-d9e6-4948-b5fc-8660e00ab68c"
      },
      "outputs": [
        {
          "data": {
            "text/plain": [
              "8"
            ]
          },
          "execution_count": 16,
          "metadata": {},
          "output_type": "execute_result"
        }
      ],
      "source": [
        "a"
      ]
    },
    {
      "cell_type": "code",
      "execution_count": null,
      "id": "e86687e1-21fa-4ba9-b561-299041667fda",
      "metadata": {
        "id": "e86687e1-21fa-4ba9-b561-299041667fda",
        "outputId": "94948952-7d11-422f-c71f-bd677fe84d0c"
      },
      "outputs": [
        {
          "data": {
            "text/plain": [
              "4"
            ]
          },
          "execution_count": 18,
          "metadata": {},
          "output_type": "execute_result"
        }
      ],
      "source": [
        "b"
      ]
    },
    {
      "cell_type": "markdown",
      "id": "fd877d90-f798-4ace-b01a-63cc068185aa",
      "metadata": {
        "id": "fd877d90-f798-4ace-b01a-63cc068185aa"
      },
      "source": [
        "# Comparision operators"
      ]
    },
    {
      "cell_type": "markdown",
      "id": "210b64c5-d74c-4809-acf8-b5fef982c81a",
      "metadata": {
        "id": "210b64c5-d74c-4809-acf8-b5fef982c81a"
      },
      "source": [
        "< > <= >= == !="
      ]
    },
    {
      "cell_type": "code",
      "execution_count": null,
      "id": "a780535b-237e-48c4-8e74-fd6f3604b7b3",
      "metadata": {
        "id": "a780535b-237e-48c4-8e74-fd6f3604b7b3",
        "outputId": "4b494ced-a432-44e4-8da4-4e373dd91518"
      },
      "outputs": [
        {
          "data": {
            "text/plain": [
              "False"
            ]
          },
          "execution_count": 21,
          "metadata": {},
          "output_type": "execute_result"
        }
      ],
      "source": [
        "a<b"
      ]
    },
    {
      "cell_type": "code",
      "execution_count": null,
      "id": "0ffe3a8c-94d6-4ab5-8bc1-25db43342791",
      "metadata": {
        "id": "0ffe3a8c-94d6-4ab5-8bc1-25db43342791",
        "outputId": "934125ad-c93c-4f83-a473-54364cc6808e"
      },
      "outputs": [
        {
          "data": {
            "text/plain": [
              "True"
            ]
          },
          "execution_count": 23,
          "metadata": {},
          "output_type": "execute_result"
        }
      ],
      "source": [
        "a>b"
      ]
    },
    {
      "cell_type": "code",
      "execution_count": null,
      "id": "dc406412-0faa-426f-b563-23537037d3f7",
      "metadata": {
        "id": "dc406412-0faa-426f-b563-23537037d3f7",
        "outputId": "6751947a-14d9-4617-fb3d-4445d3bcfde2"
      },
      "outputs": [
        {
          "data": {
            "text/plain": [
              "True"
            ]
          },
          "execution_count": 27,
          "metadata": {},
          "output_type": "execute_result"
        }
      ],
      "source": [
        "a!=b"
      ]
    },
    {
      "cell_type": "code",
      "execution_count": null,
      "id": "66d73e26-05bc-46ea-acc6-9ec670795adc",
      "metadata": {
        "id": "66d73e26-05bc-46ea-acc6-9ec670795adc",
        "outputId": "49edb45c-323e-4646-e05f-831e0c010007"
      },
      "outputs": [
        {
          "data": {
            "text/plain": [
              "False"
            ]
          },
          "execution_count": 29,
          "metadata": {},
          "output_type": "execute_result"
        }
      ],
      "source": [
        "a==b"
      ]
    },
    {
      "cell_type": "code",
      "execution_count": null,
      "id": "5d23e04e-1159-4a1c-ae3a-883ab23e2457",
      "metadata": {
        "id": "5d23e04e-1159-4a1c-ae3a-883ab23e2457",
        "outputId": "2fb4efc4-c696-4e05-cb25-c82696325b5a"
      },
      "outputs": [
        {
          "data": {
            "text/plain": [
              "False"
            ]
          },
          "execution_count": 31,
          "metadata": {},
          "output_type": "execute_result"
        }
      ],
      "source": [
        "a<=b"
      ]
    },
    {
      "cell_type": "code",
      "execution_count": null,
      "id": "55a013a5-7709-4e64-bcc4-ad8a74d2986f",
      "metadata": {
        "id": "55a013a5-7709-4e64-bcc4-ad8a74d2986f",
        "outputId": "a24585a3-3236-4b31-8495-356e7190a668"
      },
      "outputs": [
        {
          "data": {
            "text/plain": [
              "True"
            ]
          },
          "execution_count": 34,
          "metadata": {},
          "output_type": "execute_result"
        }
      ],
      "source": [
        "a>=b"
      ]
    },
    {
      "cell_type": "code",
      "execution_count": null,
      "id": "8a40b501-85b5-47b0-a939-a649049f28fa",
      "metadata": {
        "id": "8a40b501-85b5-47b0-a939-a649049f28fa",
        "outputId": "9255f6df-2950-4b73-9f57-9507bdfe7b85"
      },
      "outputs": [
        {
          "data": {
            "text/plain": [
              "False"
            ]
          },
          "execution_count": 36,
          "metadata": {},
          "output_type": "execute_result"
        }
      ],
      "source": [
        "a>=10"
      ]
    },
    {
      "cell_type": "code",
      "execution_count": null,
      "id": "fd4d5233-f39c-404a-8183-0bf78dc58b81",
      "metadata": {
        "id": "fd4d5233-f39c-404a-8183-0bf78dc58b81",
        "outputId": "36fc4720-b6fe-44e5-ab8a-ae1614f55ed6"
      },
      "outputs": [
        {
          "data": {
            "text/plain": [
              "True"
            ]
          },
          "execution_count": 38,
          "metadata": {},
          "output_type": "execute_result"
        }
      ],
      "source": [
        "a>=6"
      ]
    },
    {
      "cell_type": "markdown",
      "id": "1776b427-e2e1-4a79-9c31-b80d35d3879c",
      "metadata": {
        "id": "1776b427-e2e1-4a79-9c31-b80d35d3879c"
      },
      "source": [
        "# logical operators"
      ]
    },
    {
      "cell_type": "markdown",
      "id": "ad967afb-5cae-431e-851e-d7963e9c1114",
      "metadata": {
        "id": "ad967afb-5cae-431e-851e-d7963e9c1114"
      },
      "source": [
        "and\n",
        "\n",
        "or\n",
        "\n",
        "not"
      ]
    },
    {
      "cell_type": "code",
      "execution_count": null,
      "id": "ff25e69b-673b-4e7b-8c1c-bdca291b8ab1",
      "metadata": {
        "id": "ff25e69b-673b-4e7b-8c1c-bdca291b8ab1",
        "outputId": "1fbb9023-7ee3-485c-a82a-66f56676423f"
      },
      "outputs": [
        {
          "data": {
            "text/plain": [
              "False"
            ]
          },
          "execution_count": 49,
          "metadata": {},
          "output_type": "execute_result"
        }
      ],
      "source": [
        "(a> b) and (a>100)"
      ]
    },
    {
      "cell_type": "code",
      "execution_count": null,
      "id": "c8e18935-7160-4a9f-bd81-2a564e00bafd",
      "metadata": {
        "id": "c8e18935-7160-4a9f-bd81-2a564e00bafd",
        "outputId": "2a006941-d526-461b-ca7c-4b50d3669d9c"
      },
      "outputs": [
        {
          "data": {
            "text/plain": [
              "True"
            ]
          },
          "execution_count": 51,
          "metadata": {},
          "output_type": "execute_result"
        }
      ],
      "source": [
        "(a> b) or (a> 100)"
      ]
    },
    {
      "cell_type": "code",
      "execution_count": null,
      "id": "7db3db3d-957e-40c9-bd50-43b3c5b8e7eb",
      "metadata": {
        "id": "7db3db3d-957e-40c9-bd50-43b3c5b8e7eb",
        "outputId": "0c91b7fd-2f7e-4214-db22-4c2f9bb03d52"
      },
      "outputs": [
        {
          "data": {
            "text/plain": [
              "False"
            ]
          },
          "execution_count": 53,
          "metadata": {},
          "output_type": "execute_result"
        }
      ],
      "source": [
        "True and True  ---   True\n",
        "True and False  ---   False\n",
        "False and True  ---  False\n",
        "False and False  ---  False"
      ]
    },
    {
      "cell_type": "code",
      "execution_count": null,
      "id": "4f5bea05-9069-4258-a1da-af13e94c1ee4",
      "metadata": {
        "id": "4f5bea05-9069-4258-a1da-af13e94c1ee4",
        "outputId": "e2d7db20-6209-4cb4-d648-bbb3baa55ece"
      },
      "outputs": [
        {
          "data": {
            "text/plain": [
              "0"
            ]
          },
          "execution_count": 55,
          "metadata": {},
          "output_type": "execute_result"
        }
      ],
      "source": [
        "True or True  ---  True\n",
        "True or False  ---  True\n",
        "False or True  ---  True\n",
        "False or False  ---  False"
      ]
    },
    {
      "cell_type": "code",
      "execution_count": null,
      "id": "5c05ebaa-96e0-45ad-a735-a7052798e3bb",
      "metadata": {
        "id": "5c05ebaa-96e0-45ad-a735-a7052798e3bb"
      },
      "outputs": [],
      "source": [
        "# q1\n",
        "x=34.56\n",
        "y=3.5\n",
        "\n",
        "# all arithmatic operators\n",
        "# all comparision operators\n",
        "# and or"
      ]
    },
    {
      "cell_type": "code",
      "execution_count": null,
      "id": "20ed3a5b-55cd-4cd8-8b25-25f2f04c5714",
      "metadata": {
        "id": "20ed3a5b-55cd-4cd8-8b25-25f2f04c5714",
        "outputId": "41a4ffe5-194b-4365-c0b8-e465c4dbc4e9"
      },
      "outputs": [
        {
          "data": {
            "text/plain": [
              "38.06"
            ]
          },
          "execution_count": 64,
          "metadata": {},
          "output_type": "execute_result"
        }
      ],
      "source": [
        "s= x+y\n",
        "s"
      ]
    },
    {
      "cell_type": "code",
      "execution_count": null,
      "id": "cf824e7f-dea1-4352-9c1e-e6a3b9ce3b4a",
      "metadata": {
        "id": "cf824e7f-dea1-4352-9c1e-e6a3b9ce3b4a",
        "outputId": "f1adf832-80b7-4f02-8e85-0a34d3968d29"
      },
      "outputs": [
        {
          "data": {
            "text/plain": [
              "31.060000000000002"
            ]
          },
          "execution_count": 66,
          "metadata": {},
          "output_type": "execute_result"
        }
      ],
      "source": [
        "s =x-y\n",
        "s"
      ]
    },
    {
      "cell_type": "code",
      "execution_count": null,
      "id": "48a69fc9-c63e-4267-a4b0-0a1c7cbcd6e5",
      "metadata": {
        "id": "48a69fc9-c63e-4267-a4b0-0a1c7cbcd6e5",
        "outputId": "1c23d0ba-8508-4f11-cb49-9bc46924f51b"
      },
      "outputs": [
        {
          "data": {
            "text/plain": [
              "[203, 'Hyderabad', 45, True, 'Mumbai', 78, 175, 34.9]"
            ]
          },
          "execution_count": 61,
          "metadata": {},
          "output_type": "execute_result"
        }
      ],
      "source": [
        "m=[203, 'Hyderabad', 45, True, 'Mumbai', 78,175,34.90]\n",
        "m"
      ]
    },
    {
      "cell_type": "code",
      "execution_count": null,
      "id": "48f81d89-da16-448c-9132-52cae3d85d2f",
      "metadata": {
        "id": "48f81d89-da16-448c-9132-52cae3d85d2f",
        "outputId": "14a616f5-f500-4b37-9436-40187869aa53"
      },
      "outputs": [
        {
          "data": {
            "text/plain": [
              "45"
            ]
          },
          "execution_count": 3,
          "metadata": {},
          "output_type": "execute_result"
        }
      ],
      "source": [
        "m[-6]"
      ]
    },
    {
      "cell_type": "code",
      "execution_count": null,
      "id": "7b684a26-0a6d-41cc-9649-2b618858e8fe",
      "metadata": {
        "id": "7b684a26-0a6d-41cc-9649-2b618858e8fe",
        "outputId": "543c6c8d-90bb-4b80-e8eb-8efd754793ba"
      },
      "outputs": [
        {
          "data": {
            "text/plain": [
              "45"
            ]
          },
          "execution_count": 5,
          "metadata": {},
          "output_type": "execute_result"
        }
      ],
      "source": [
        "m[2]"
      ]
    },
    {
      "cell_type": "code",
      "execution_count": null,
      "id": "1618f2d2-f9c5-41d0-92a5-06f71251d5d4",
      "metadata": {
        "id": "1618f2d2-f9c5-41d0-92a5-06f71251d5d4",
        "outputId": "2aa30bf7-02f1-4bec-e5aa-9b8ae583aa19"
      },
      "outputs": [
        {
          "data": {
            "text/plain": [
              "True"
            ]
          },
          "execution_count": 7,
          "metadata": {},
          "output_type": "execute_result"
        }
      ],
      "source": [
        "m[3]"
      ]
    },
    {
      "cell_type": "code",
      "execution_count": null,
      "id": "6f798f60-3c11-4478-b580-09445192b04a",
      "metadata": {
        "id": "6f798f60-3c11-4478-b580-09445192b04a",
        "outputId": "90946bd6-0800-4f80-f345-fa1198f4457e"
      },
      "outputs": [
        {
          "data": {
            "text/plain": [
              "203"
            ]
          },
          "execution_count": 9,
          "metadata": {},
          "output_type": "execute_result"
        }
      ],
      "source": [
        "m[-8]"
      ]
    },
    {
      "cell_type": "code",
      "execution_count": null,
      "id": "3dc8a562-9139-4e49-93b7-14584b613be6",
      "metadata": {
        "id": "3dc8a562-9139-4e49-93b7-14584b613be6",
        "outputId": "0f11ca5b-d2de-49f9-c865-474aa0f3144c"
      },
      "outputs": [
        {
          "data": {
            "text/plain": [
              "'Mumbai'"
            ]
          },
          "execution_count": 11,
          "metadata": {},
          "output_type": "execute_result"
        }
      ],
      "source": [
        "m[-4]"
      ]
    },
    {
      "cell_type": "code",
      "execution_count": null,
      "id": "18717c3c-3431-406a-b616-9c993fa453be",
      "metadata": {
        "id": "18717c3c-3431-406a-b616-9c993fa453be",
        "outputId": "26e8370c-acd1-4549-e719-45d07e7c6f1b"
      },
      "outputs": [
        {
          "data": {
            "text/plain": [
              "[45, True, 'Mumbai', 78, 175]"
            ]
          },
          "execution_count": 13,
          "metadata": {},
          "output_type": "execute_result"
        }
      ],
      "source": [
        "m[2:7]"
      ]
    },
    {
      "cell_type": "code",
      "execution_count": null,
      "id": "6dec7433-dcf0-4250-a97f-782f54baec63",
      "metadata": {
        "id": "6dec7433-dcf0-4250-a97f-782f54baec63",
        "outputId": "7004996a-fb0a-4719-b657-45ffd19256ff"
      },
      "outputs": [
        {
          "data": {
            "text/plain": [
              "[45, True, 'Mumbai', 78, 175]"
            ]
          },
          "execution_count": 15,
          "metadata": {},
          "output_type": "execute_result"
        }
      ],
      "source": [
        "m[2:-1]"
      ]
    },
    {
      "cell_type": "code",
      "execution_count": null,
      "id": "e85efabf-4689-4f6e-aa32-6770f6cc4b76",
      "metadata": {
        "id": "e85efabf-4689-4f6e-aa32-6770f6cc4b76",
        "outputId": "1092ea00-5bdd-412c-e245-77d7bc73264e"
      },
      "outputs": [
        {
          "data": {
            "text/plain": [
              "[203, 'Hyderabad', 45, True, 'Mumbai', 78, 175]"
            ]
          },
          "execution_count": 17,
          "metadata": {},
          "output_type": "execute_result"
        }
      ],
      "source": [
        "m[-8:7]"
      ]
    },
    {
      "cell_type": "code",
      "execution_count": null,
      "id": "641c7519-c637-49bb-9270-3167769d899f",
      "metadata": {
        "id": "641c7519-c637-49bb-9270-3167769d899f",
        "outputId": "2837ed53-f1b1-4560-9008-7ac3d53441f1"
      },
      "outputs": [
        {
          "data": {
            "text/plain": [
              "[203, 'Hyderabad', 45, True, 'Mumbai', 78]"
            ]
          },
          "execution_count": 19,
          "metadata": {},
          "output_type": "execute_result"
        }
      ],
      "source": [
        "m[0:6:1]"
      ]
    },
    {
      "cell_type": "code",
      "execution_count": null,
      "id": "4fe9d332-e4cb-4634-afde-4f29a741ec92",
      "metadata": {
        "id": "4fe9d332-e4cb-4634-afde-4f29a741ec92",
        "outputId": "3735c2fd-b14c-4e48-d8b8-82333d26047d"
      },
      "outputs": [
        {
          "data": {
            "text/plain": [
              "[203, 45, 'Mumbai']"
            ]
          },
          "execution_count": 23,
          "metadata": {},
          "output_type": "execute_result"
        }
      ],
      "source": [
        "m[0:6:2]"
      ]
    },
    {
      "cell_type": "code",
      "execution_count": null,
      "id": "8d6af8f4-dacb-432e-a281-626040ace94a",
      "metadata": {
        "id": "8d6af8f4-dacb-432e-a281-626040ace94a",
        "outputId": "de25139c-d714-4ab8-ac78-bb11c372847e"
      },
      "outputs": [
        {
          "data": {
            "text/plain": [
              "['Hyderabad', 'Mumbai']"
            ]
          },
          "execution_count": 25,
          "metadata": {},
          "output_type": "execute_result"
        }
      ],
      "source": [
        "m[1:7:3]"
      ]
    },
    {
      "cell_type": "code",
      "execution_count": null,
      "id": "a0454462-0153-43ce-8d50-14d0f9d16702",
      "metadata": {
        "id": "a0454462-0153-43ce-8d50-14d0f9d16702",
        "outputId": "b4e6cf61-5a01-44c4-d2f4-f6d257edbb37"
      },
      "outputs": [
        {
          "data": {
            "text/plain": [
              "[203, 45, 'Mumbai', 175]"
            ]
          },
          "execution_count": 29,
          "metadata": {},
          "output_type": "execute_result"
        }
      ],
      "source": [
        "m[0:9:2]"
      ]
    },
    {
      "cell_type": "code",
      "execution_count": null,
      "id": "70b2fb34-e080-4f7a-a55d-fdeed0f26102",
      "metadata": {
        "id": "70b2fb34-e080-4f7a-a55d-fdeed0f26102",
        "outputId": "61ca420b-9a11-4397-abd9-3023d12b8fdd"
      },
      "outputs": [
        {
          "data": {
            "text/plain": [
              "[203, 'Mumbai']"
            ]
          },
          "execution_count": 36,
          "metadata": {},
          "output_type": "execute_result"
        }
      ],
      "source": [
        "m[0:-1:4]"
      ]
    },
    {
      "cell_type": "code",
      "execution_count": null,
      "id": "4a293a5e-56e4-40e9-a774-9b1d2a9127b0",
      "metadata": {
        "id": "4a293a5e-56e4-40e9-a774-9b1d2a9127b0",
        "outputId": "16d04ead-9c2f-4de3-fb45-45b9a92939ab"
      },
      "outputs": [
        {
          "data": {
            "text/plain": [
              "[203, 'Hyderabad', 45, True, 'Mumbai', 78, 175, 34.9]"
            ]
          },
          "execution_count": 33,
          "metadata": {},
          "output_type": "execute_result"
        }
      ],
      "source": [
        "m"
      ]
    },
    {
      "cell_type": "code",
      "execution_count": null,
      "id": "10d931bd-bacc-42e9-be26-53969790392c",
      "metadata": {
        "id": "10d931bd-bacc-42e9-be26-53969790392c"
      },
      "outputs": [],
      "source": [
        "m.append('Mallareddyuniversity')"
      ]
    },
    {
      "cell_type": "code",
      "execution_count": null,
      "id": "563164ed-5c9b-4242-908f-79bf98c4e640",
      "metadata": {
        "id": "563164ed-5c9b-4242-908f-79bf98c4e640",
        "outputId": "f9375fb9-84db-481c-f743-7b0650197b3f"
      },
      "outputs": [
        {
          "data": {
            "text/plain": [
              "[203, 'Hyderabad', 45, True, 'Mumbai', 78, 175, 34.9, 'Mallareddyuniversity']"
            ]
          },
          "execution_count": 37,
          "metadata": {},
          "output_type": "execute_result"
        }
      ],
      "source": [
        "m"
      ]
    },
    {
      "cell_type": "code",
      "execution_count": null,
      "id": "bac243fa-a2ae-448d-9748-bb65973feb4d",
      "metadata": {
        "id": "bac243fa-a2ae-448d-9748-bb65973feb4d"
      },
      "outputs": [],
      "source": [
        "m.insert(3,'India')"
      ]
    },
    {
      "cell_type": "code",
      "execution_count": null,
      "id": "e4ee2667-2218-461d-8e09-86a95e0eb933",
      "metadata": {
        "id": "e4ee2667-2218-461d-8e09-86a95e0eb933",
        "outputId": "594b53f4-e654-4302-d4dc-bb66009ebde8"
      },
      "outputs": [
        {
          "data": {
            "text/plain": [
              "[203, 'Hyderabad', 45, 'India', True, 'Mumbai', 78, 175, 34.9]"
            ]
          },
          "execution_count": 69,
          "metadata": {},
          "output_type": "execute_result"
        }
      ],
      "source": [
        "m"
      ]
    },
    {
      "cell_type": "code",
      "execution_count": null,
      "id": "a9db563a-3d36-4c6b-a164-2b93f1d7e9a0",
      "metadata": {
        "id": "a9db563a-3d36-4c6b-a164-2b93f1d7e9a0",
        "outputId": "23081c64-0921-476f-d92c-1d0d90b8b365"
      },
      "outputs": [
        {
          "data": {
            "text/plain": [
              "'Mumbai'"
            ]
          },
          "execution_count": 71,
          "metadata": {},
          "output_type": "execute_result"
        }
      ],
      "source": [
        "m.pop(5)"
      ]
    },
    {
      "cell_type": "code",
      "execution_count": null,
      "id": "1334b3c9-7b29-489b-84fb-6515d0be59a6",
      "metadata": {
        "id": "1334b3c9-7b29-489b-84fb-6515d0be59a6",
        "outputId": "68121d72-e8ae-4722-af85-e9b1559aac33"
      },
      "outputs": [
        {
          "data": {
            "text/plain": [
              "[203, 'Hyderabad', 45, 'India', True, 78, 175, 34.9]"
            ]
          },
          "execution_count": 73,
          "metadata": {},
          "output_type": "execute_result"
        }
      ],
      "source": [
        "m"
      ]
    },
    {
      "cell_type": "code",
      "execution_count": null,
      "id": "a07f293c-9bd5-4b51-b728-66d1f7e44ce8",
      "metadata": {
        "id": "a07f293c-9bd5-4b51-b728-66d1f7e44ce8"
      },
      "outputs": [],
      "source": [
        "m.extend([69,96])"
      ]
    },
    {
      "cell_type": "code",
      "execution_count": null,
      "id": "d6e78b29-b79a-4f79-a60a-4be061efd0d8",
      "metadata": {
        "id": "d6e78b29-b79a-4f79-a60a-4be061efd0d8",
        "outputId": "0654bdc6-fb9e-40bf-cda6-ecc693a5dc1c"
      },
      "outputs": [
        {
          "data": {
            "text/plain": [
              "[203, 'Hyderabad', 45, 'India', True, 78, 175, 34.9, 69, 96]"
            ]
          },
          "execution_count": 77,
          "metadata": {},
          "output_type": "execute_result"
        }
      ],
      "source": [
        "m"
      ]
    },
    {
      "cell_type": "code",
      "execution_count": null,
      "id": "e92d555b-a61c-40d0-827e-0abdfe7d614d",
      "metadata": {
        "id": "e92d555b-a61c-40d0-827e-0abdfe7d614d"
      },
      "outputs": [],
      "source": [
        "m.append(45)"
      ]
    },
    {
      "cell_type": "code",
      "execution_count": null,
      "id": "9bd14403-4de7-4a73-ba5e-127e1d5caeb3",
      "metadata": {
        "id": "9bd14403-4de7-4a73-ba5e-127e1d5caeb3",
        "outputId": "871a4365-793e-4f53-d7b5-026890d67ae9"
      },
      "outputs": [
        {
          "data": {
            "text/plain": [
              "[203, 'Hyderabad', 45, 'India', True, 78, 175, 34.9, 69, 96, 45]"
            ]
          },
          "execution_count": 81,
          "metadata": {},
          "output_type": "execute_result"
        }
      ],
      "source": [
        "m"
      ]
    },
    {
      "cell_type": "code",
      "execution_count": null,
      "id": "c980a516-a210-4814-a124-c943fed23afc",
      "metadata": {
        "id": "c980a516-a210-4814-a124-c943fed23afc"
      },
      "outputs": [],
      "source": [
        "m.insert(4,'MRUH')"
      ]
    },
    {
      "cell_type": "code",
      "execution_count": null,
      "id": "0afb1b68-81f5-49ce-a94d-eb2d8d20b734",
      "metadata": {
        "id": "0afb1b68-81f5-49ce-a94d-eb2d8d20b734",
        "outputId": "ed435d7d-8f08-405b-abb2-41035177c2ef"
      },
      "outputs": [
        {
          "data": {
            "text/plain": [
              "[203, 'Hyderabad', 45, 'India', 'MRUH', True, 78, 175, 34.9, 69, 96, 45]"
            ]
          },
          "execution_count": 85,
          "metadata": {},
          "output_type": "execute_result"
        }
      ],
      "source": [
        "m"
      ]
    },
    {
      "cell_type": "code",
      "execution_count": null,
      "id": "f3102a1d-aad2-44da-abd2-02b91ea7fdbf",
      "metadata": {
        "id": "f3102a1d-aad2-44da-abd2-02b91ea7fdbf",
        "outputId": "45ba03c4-ae52-4650-8ab3-48fb74ef7b31"
      },
      "outputs": [
        {
          "data": {
            "text/plain": [
              "34.9"
            ]
          },
          "execution_count": 93,
          "metadata": {},
          "output_type": "execute_result"
        }
      ],
      "source": [
        "m.pop(8)"
      ]
    },
    {
      "cell_type": "code",
      "execution_count": null,
      "id": "1a3443a5-a969-4372-9936-2720424dfbae",
      "metadata": {
        "id": "1a3443a5-a969-4372-9936-2720424dfbae",
        "outputId": "0b3333ed-ed49-481c-da06-a505c723c5fa"
      },
      "outputs": [
        {
          "data": {
            "text/plain": [
              "[203, 'Hyderabad', 45, 'India', 'MRUH', True, 78, 175, 69, 96, 45]"
            ]
          },
          "execution_count": 96,
          "metadata": {},
          "output_type": "execute_result"
        }
      ],
      "source": [
        "m"
      ]
    },
    {
      "cell_type": "code",
      "execution_count": null,
      "id": "594198d1-34f0-4ab7-aa95-349323a1b3b9",
      "metadata": {
        "id": "594198d1-34f0-4ab7-aa95-349323a1b3b9"
      },
      "outputs": [],
      "source": []
    }
  ],
  "metadata": {
    "kernelspec": {
      "display_name": "Python [conda env:base] *",
      "language": "python",
      "name": "conda-base-py"
    },
    "language_info": {
      "codemirror_mode": {
        "name": "ipython",
        "version": 3
      },
      "file_extension": ".py",
      "mimetype": "text/x-python",
      "name": "python",
      "nbconvert_exporter": "python",
      "pygments_lexer": "ipython3",
      "version": "3.12.7"
    },
    "colab": {
      "provenance": [],
      "include_colab_link": true
    }
  },
  "nbformat": 4,
  "nbformat_minor": 5
}