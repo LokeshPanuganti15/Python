{
  "nbformat": 4,
  "nbformat_minor": 0,
  "metadata": {
    "colab": {
      "provenance": [],
      "authorship_tag": "ABX9TyMUHALQBc2UVuhif/PD3dVH",
      "include_colab_link": true
    },
    "kernelspec": {
      "name": "python3",
      "display_name": "Python 3"
    },
    "language_info": {
      "name": "python"
    }
  },
  "cells": [
    {
      "cell_type": "markdown",
      "metadata": {
        "id": "view-in-github",
        "colab_type": "text"
      },
      "source": [
        "<a href=\"https://colab.research.google.com/github/ChetanGoud77/PYTHON/blob/main/DAY_9.ipynb\" target=\"_parent\"><img src=\"https://colab.research.google.com/assets/colab-badge.svg\" alt=\"Open In Colab\"/></a>"
      ]
    },
    {
      "cell_type": "code",
      "execution_count": 1,
      "metadata": {
        "id": "-Q4fleZFarG5"
      },
      "outputs": [],
      "source": [
        "a=88,75,98 ,47,99,36,77"
      ]
    },
    {
      "cell_type": "code",
      "source": [
        "a"
      ],
      "metadata": {
        "colab": {
          "base_uri": "https://localhost:8080/"
        },
        "id": "hdhzoLDtfYLD",
        "outputId": "c857100e-fe78-4287-c8a8-81b1329d3277"
      },
      "execution_count": 2,
      "outputs": [
        {
          "output_type": "execute_result",
          "data": {
            "text/plain": [
              "(88, 75, 98, 47, 99, 36, 77)"
            ]
          },
          "metadata": {},
          "execution_count": 2
        }
      ]
    },
    {
      "cell_type": "code",
      "source": [
        "import numpy as np\n",
        "random_numbers = np.random.randint(0, 101, size=10)\n",
        "random_numbers"
      ],
      "metadata": {
        "colab": {
          "base_uri": "https://localhost:8080/"
        },
        "id": "5lzSHsAVfY-9",
        "outputId": "22b64d46-647f-4ef5-9998-7389b3698fc6"
      },
      "execution_count": 4,
      "outputs": [
        {
          "output_type": "execute_result",
          "data": {
            "text/plain": [
              "array([64, 19, 52, 80, 69,  3, 73, 12, 90, 25])"
            ]
          },
          "metadata": {},
          "execution_count": 4
        }
      ]
    },
    {
      "cell_type": "code",
      "source": [
        "a"
      ],
      "metadata": {
        "colab": {
          "base_uri": "https://localhost:8080/"
        },
        "id": "7KeGoxjmgk-O",
        "outputId": "fd8b1563-5204-4bc6-dba1-c83888a8b77c"
      },
      "execution_count": 5,
      "outputs": [
        {
          "output_type": "execute_result",
          "data": {
            "text/plain": [
              "(88, 75, 98, 47, 99, 36, 77)"
            ]
          },
          "metadata": {},
          "execution_count": 5
        }
      ]
    },
    {
      "cell_type": "code",
      "source": [
        "a[5]"
      ],
      "metadata": {
        "colab": {
          "base_uri": "https://localhost:8080/"
        },
        "id": "BN92_y86g8PB",
        "outputId": "d30e7a0e-9e68-46a5-fd1a-0b14342d2cad"
      },
      "execution_count": 6,
      "outputs": [
        {
          "output_type": "execute_result",
          "data": {
            "text/plain": [
              "36"
            ]
          },
          "metadata": {},
          "execution_count": 6
        }
      ]
    },
    {
      "cell_type": "code",
      "source": [
        "np.random.seed(88)\n",
        "a=np.random.randint(45,78,(7,8))\n",
        "a"
      ],
      "metadata": {
        "colab": {
          "base_uri": "https://localhost:8080/"
        },
        "id": "6yTMa1bthBc1",
        "outputId": "4fcfa283-421c-4f88-f69f-148af2f5f79c"
      },
      "execution_count": 11,
      "outputs": [
        {
          "output_type": "execute_result",
          "data": {
            "text/plain": [
              "array([[69, 77, 60, 65, 50, 56, 49, 52],\n",
              "       [71, 70, 52, 51, 55, 67, 74, 58],\n",
              "       [58, 46, 59, 59, 56, 61, 77, 50],\n",
              "       [66, 48, 75, 70, 58, 48, 68, 58],\n",
              "       [73, 69, 66, 73, 61, 45, 56, 73],\n",
              "       [66, 56, 75, 70, 46, 67, 59, 60],\n",
              "       [62, 72, 52, 49, 67, 73, 51, 51]])"
            ]
          },
          "metadata": {},
          "execution_count": 11
        }
      ]
    },
    {
      "cell_type": "code",
      "source": [
        "a[4]"
      ],
      "metadata": {
        "colab": {
          "base_uri": "https://localhost:8080/"
        },
        "id": "L22TJvx4hPMR",
        "outputId": "b55ee7de-6ce7-4954-f47d-37c608d614a8"
      },
      "execution_count": 13,
      "outputs": [
        {
          "output_type": "execute_result",
          "data": {
            "text/plain": [
              "array([73, 69, 66, 73, 61, 45, 56, 73])"
            ]
          },
          "metadata": {},
          "execution_count": 13
        }
      ]
    },
    {
      "cell_type": "code",
      "source": [
        "a[5,6]"
      ],
      "metadata": {
        "colab": {
          "base_uri": "https://localhost:8080/"
        },
        "id": "tAVCv2-5hiPW",
        "outputId": "cc8cfb8f-2249-4c9f-adec-a188e7477980"
      },
      "execution_count": 14,
      "outputs": [
        {
          "output_type": "execute_result",
          "data": {
            "text/plain": [
              "59"
            ]
          },
          "metadata": {},
          "execution_count": 14
        }
      ]
    },
    {
      "cell_type": "code",
      "source": [
        "a[1:5,1:5]"
      ],
      "metadata": {
        "colab": {
          "base_uri": "https://localhost:8080/"
        },
        "id": "7eIevzbxhozv",
        "outputId": "56a19b02-e2cc-48f8-f04b-caa451983f22"
      },
      "execution_count": 15,
      "outputs": [
        {
          "output_type": "execute_result",
          "data": {
            "text/plain": [
              "array([[70, 52, 51, 55],\n",
              "       [46, 59, 59, 56],\n",
              "       [48, 75, 70, 58],\n",
              "       [69, 66, 73, 61]])"
            ]
          },
          "metadata": {},
          "execution_count": 15
        }
      ]
    },
    {
      "cell_type": "code",
      "source": [
        "a[1:7,1:7]"
      ],
      "metadata": {
        "colab": {
          "base_uri": "https://localhost:8080/"
        },
        "id": "lhW2f9B8hxjT",
        "outputId": "4da72773-e304-4198-bc59-ac0e597dd872"
      },
      "execution_count": 16,
      "outputs": [
        {
          "output_type": "execute_result",
          "data": {
            "text/plain": [
              "array([[70, 52, 51, 55, 67, 74],\n",
              "       [46, 59, 59, 56, 61, 77],\n",
              "       [48, 75, 70, 58, 48, 68],\n",
              "       [69, 66, 73, 61, 45, 56],\n",
              "       [56, 75, 70, 46, 67, 59],\n",
              "       [72, 52, 49, 67, 73, 51]])"
            ]
          },
          "metadata": {},
          "execution_count": 16
        }
      ]
    },
    {
      "cell_type": "code",
      "source": [
        "import numpy as np\n",
        "np.random.seed(88)\n",
        "a=np.random.randint(45,78,(7,8))\n",
        "a[1:7,1:7] * -1"
      ],
      "metadata": {
        "colab": {
          "base_uri": "https://localhost:8080/"
        },
        "id": "S0EEqqX5h_ra",
        "outputId": "56de0b7c-b6fc-4281-8938-a708ad94a5d4"
      },
      "execution_count": 18,
      "outputs": [
        {
          "output_type": "execute_result",
          "data": {
            "text/plain": [
              "array([[-70, -52, -51, -55, -67, -74],\n",
              "       [-46, -59, -59, -56, -61, -77],\n",
              "       [-48, -75, -70, -58, -48, -68],\n",
              "       [-69, -66, -73, -61, -45, -56],\n",
              "       [-56, -75, -70, -46, -67, -59],\n",
              "       [-72, -52, -49, -67, -73, -51]])"
            ]
          },
          "metadata": {},
          "execution_count": 18
        }
      ]
    },
    {
      "cell_type": "code",
      "source": [
        "a[-5:-1,-6:-1]"
      ],
      "metadata": {
        "colab": {
          "base_uri": "https://localhost:8080/"
        },
        "id": "waXABzxZichg",
        "outputId": "d64cf81b-969e-411b-ee70-e743ab49d1e3"
      },
      "execution_count": 23,
      "outputs": [
        {
          "output_type": "execute_result",
          "data": {
            "text/plain": [
              "array([[59, 59, 56, 61, 77],\n",
              "       [75, 70, 58, 48, 68],\n",
              "       [66, 73, 61, 45, 56],\n",
              "       [75, 70, 46, 67, 59]])"
            ]
          },
          "metadata": {},
          "execution_count": 23
        }
      ]
    },
    {
      "cell_type": "code",
      "source": [
        "a[2:3]"
      ],
      "metadata": {
        "colab": {
          "base_uri": "https://localhost:8080/"
        },
        "id": "P94wzmCMitEr",
        "outputId": "52c000a4-eafb-4599-acf1-ae3f86c93008"
      },
      "execution_count": 25,
      "outputs": [
        {
          "output_type": "execute_result",
          "data": {
            "text/plain": [
              "array([[58, 46, 59, 59, 56, 61, 77, 50]])"
            ]
          },
          "metadata": {},
          "execution_count": 25
        }
      ]
    },
    {
      "cell_type": "code",
      "source": [
        "np.where(a>20)"
      ],
      "metadata": {
        "colab": {
          "base_uri": "https://localhost:8080/"
        },
        "id": "QVTPiZ3JjF9d",
        "outputId": "ff004cf2-a38e-482b-9d37-24eb30be0f67"
      },
      "execution_count": 30,
      "outputs": [
        {
          "output_type": "execute_result",
          "data": {
            "text/plain": [
              "(array([0, 0, 0, 0, 0, 0, 0, 0, 1, 1, 1, 1, 1, 1, 1, 1, 2, 2, 2, 2, 2, 2,\n",
              "        2, 2, 3, 3, 3, 3, 3, 3, 3, 3, 4, 4, 4, 4, 4, 4, 4, 4, 5, 5, 5, 5,\n",
              "        5, 5, 5, 5, 6, 6, 6, 6, 6, 6, 6, 6]),\n",
              " array([0, 1, 2, 3, 4, 5, 6, 7, 0, 1, 2, 3, 4, 5, 6, 7, 0, 1, 2, 3, 4, 5,\n",
              "        6, 7, 0, 1, 2, 3, 4, 5, 6, 7, 0, 1, 2, 3, 4, 5, 6, 7, 0, 1, 2, 3,\n",
              "        4, 5, 6, 7, 0, 1, 2, 3, 4, 5, 6, 7]))"
            ]
          },
          "metadata": {},
          "execution_count": 30
        }
      ]
    },
    {
      "cell_type": "code",
      "source": [],
      "metadata": {
        "id": "49SaDDQjjZUh"
      },
      "execution_count": 30,
      "outputs": []
    }
  ]
}