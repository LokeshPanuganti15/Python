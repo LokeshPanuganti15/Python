{
  "nbformat": 4,
  "nbformat_minor": 0,
  "metadata": {
    "colab": {
      "provenance": []
    },
    "kernelspec": {
      "name": "python3",
      "display_name": "Python 3"
    },
    "language_info": {
      "name": "python"
    }
  },
  "cells": [
    {
      "cell_type": "code",
      "execution_count": null,
      "metadata": {
        "colab": {
          "base_uri": "https://localhost:8080/"
        },
        "id": "DZOApo9vYKy9",
        "outputId": "b49e6aaa-7f40-49c4-ca56-3696537196a4"
      },
      "outputs": [
        {
          "output_type": "execute_result",
          "data": {
            "text/plain": [
              "{101: 4, 102: 7, 'B': 2}"
            ]
          },
          "metadata": {},
          "execution_count": 35
        }
      ],
      "source": [
        "d={ 101: 4,102: 7,'B' :2}\n",
        "d"
      ]
    },
    {
      "cell_type": "code",
      "source": [
        "d['B']"
      ],
      "metadata": {
        "colab": {
          "base_uri": "https://localhost:8080/"
        },
        "id": "o41-DrhtYYFk",
        "outputId": "242c2b1c-5e13-4309-ad2f-e4fb754b3e86"
      },
      "execution_count": null,
      "outputs": [
        {
          "output_type": "execute_result",
          "data": {
            "text/plain": [
              "2"
            ]
          },
          "metadata": {},
          "execution_count": 36
        }
      ]
    },
    {
      "cell_type": "code",
      "source": [
        "d[101]=40"
      ],
      "metadata": {
        "id": "vVhTPyEhYcmc"
      },
      "execution_count": null,
      "outputs": []
    },
    {
      "cell_type": "code",
      "source": [
        "d"
      ],
      "metadata": {
        "colab": {
          "base_uri": "https://localhost:8080/"
        },
        "id": "pQwX1fHqYhFk",
        "outputId": "7cac5595-ba52-4a7d-ed3b-ac6e49261bdb"
      },
      "execution_count": null,
      "outputs": [
        {
          "output_type": "execute_result",
          "data": {
            "text/plain": [
              "{101: 40, 102: 7, 'B': 2}"
            ]
          },
          "metadata": {},
          "execution_count": 4
        }
      ]
    },
    {
      "cell_type": "code",
      "source": [
        "d.update({102:99})"
      ],
      "metadata": {
        "id": "jse4H1EKYjD8"
      },
      "execution_count": null,
      "outputs": []
    },
    {
      "cell_type": "code",
      "source": [
        "d"
      ],
      "metadata": {
        "colab": {
          "base_uri": "https://localhost:8080/"
        },
        "id": "dUUvciIjYpRG",
        "outputId": "c02c9b74-b5f8-4ea9-b76f-a41908ed5a9e"
      },
      "execution_count": null,
      "outputs": [
        {
          "output_type": "execute_result",
          "data": {
            "text/plain": [
              "{101: 40, 102: 99, 'B': 2}"
            ]
          },
          "metadata": {},
          "execution_count": 6
        }
      ]
    },
    {
      "cell_type": "code",
      "source": [
        "d[105]=5000"
      ],
      "metadata": {
        "id": "nGaxhNxpYp32"
      },
      "execution_count": null,
      "outputs": []
    },
    {
      "cell_type": "code",
      "source": [
        "d"
      ],
      "metadata": {
        "colab": {
          "base_uri": "https://localhost:8080/"
        },
        "id": "umEnDpolY1vv",
        "outputId": "77aef48b-1cf6-4a75-8139-b29e40a85304"
      },
      "execution_count": null,
      "outputs": [
        {
          "output_type": "execute_result",
          "data": {
            "text/plain": [
              "{101: 40, 102: 99, 'B': 2, 105: 5000}"
            ]
          },
          "metadata": {},
          "execution_count": 8
        }
      ]
    },
    {
      "cell_type": "code",
      "source": [
        "d[101]=9"
      ],
      "metadata": {
        "id": "sN6dNegrY2TX"
      },
      "execution_count": null,
      "outputs": []
    },
    {
      "cell_type": "code",
      "source": [
        "d.get(102)"
      ],
      "metadata": {
        "colab": {
          "base_uri": "https://localhost:8080/"
        },
        "id": "Wgieh6y8ZBPn",
        "outputId": "dde99fc1-7caf-44e6-9e7f-2bec8833393e"
      },
      "execution_count": null,
      "outputs": [
        {
          "output_type": "execute_result",
          "data": {
            "text/plain": [
              "99"
            ]
          },
          "metadata": {},
          "execution_count": 10
        }
      ]
    },
    {
      "cell_type": "code",
      "source": [
        "d.update({101: 'India'})"
      ],
      "metadata": {
        "id": "Eg_dEmy6ZEUh"
      },
      "execution_count": null,
      "outputs": []
    },
    {
      "cell_type": "code",
      "source": [
        "d"
      ],
      "metadata": {
        "colab": {
          "base_uri": "https://localhost:8080/"
        },
        "id": "uVrqfSPbZQJA",
        "outputId": "1e3ff193-19d1-4c31-c692-69448853bc3d"
      },
      "execution_count": null,
      "outputs": [
        {
          "output_type": "execute_result",
          "data": {
            "text/plain": [
              "{101: 'India', 102: (30, 40, 50, 60, 70), 'B': 2}"
            ]
          },
          "metadata": {},
          "execution_count": 46
        }
      ]
    },
    {
      "cell_type": "code",
      "source": [
        "d.update({'B':'MallaReddyUniversity'})"
      ],
      "metadata": {
        "id": "77_zXvtNZQyw"
      },
      "execution_count": null,
      "outputs": []
    },
    {
      "cell_type": "code",
      "source": [
        "d"
      ],
      "metadata": {
        "colab": {
          "base_uri": "https://localhost:8080/"
        },
        "id": "JXRrjaRQZiPM",
        "outputId": "ecec3277-7b3f-452c-f343-d60ae721c8a0"
      },
      "execution_count": null,
      "outputs": [
        {
          "output_type": "execute_result",
          "data": {
            "text/plain": [
              "{101: 'India', 102: (30, 40, 50, 60, 70), 'B': 'MallaReddyUniversity'}"
            ]
          },
          "metadata": {},
          "execution_count": 48
        }
      ]
    },
    {
      "cell_type": "code",
      "source": [
        "d[102]"
      ],
      "metadata": {
        "colab": {
          "base_uri": "https://localhost:8080/"
        },
        "id": "hNUdUUN_Zi1c",
        "outputId": "7aa0955a-e4fd-4849-a3a5-8170f0b56629"
      },
      "execution_count": null,
      "outputs": [
        {
          "output_type": "execute_result",
          "data": {
            "text/plain": [
              "(30, 40, 50, 60, 70)"
            ]
          },
          "metadata": {},
          "execution_count": 49
        }
      ]
    },
    {
      "cell_type": "code",
      "source": [
        "d.get(102)"
      ],
      "metadata": {
        "id": "oSsQr5BEaEsX",
        "outputId": "46c6175a-1867-4f29-b358-37b0c041849b",
        "colab": {
          "base_uri": "https://localhost:8080/"
        }
      },
      "execution_count": null,
      "outputs": [
        {
          "output_type": "execute_result",
          "data": {
            "text/plain": [
              "(30, 40, 50, 60, 70)"
            ]
          },
          "metadata": {},
          "execution_count": 50
        }
      ]
    },
    {
      "cell_type": "code",
      "source": [
        "del d[102]"
      ],
      "metadata": {
        "id": "PsX9mqrkaH_f"
      },
      "execution_count": null,
      "outputs": []
    },
    {
      "cell_type": "code",
      "source": [
        "d"
      ],
      "metadata": {
        "colab": {
          "base_uri": "https://localhost:8080/"
        },
        "id": "_vR5t7usbMJQ",
        "outputId": "f861780a-9f20-4bab-ab94-2430e5c89143"
      },
      "execution_count": null,
      "outputs": [
        {
          "output_type": "execute_result",
          "data": {
            "text/plain": [
              "{101: 'India', 'B': 'MallaReddyUniversity'}"
            ]
          },
          "metadata": {},
          "execution_count": 52
        }
      ]
    },
    {
      "cell_type": "code",
      "source": [
        "d.update({102:'Hyderabad'})"
      ],
      "metadata": {
        "id": "Xhn0N50GbSAH"
      },
      "execution_count": null,
      "outputs": []
    },
    {
      "cell_type": "code",
      "source": [
        "d"
      ],
      "metadata": {
        "colab": {
          "base_uri": "https://localhost:8080/"
        },
        "id": "joQWd5Z2bgWg",
        "outputId": "699bf34c-aabf-4135-9016-8e11f92dbc32"
      },
      "execution_count": null,
      "outputs": [
        {
          "output_type": "execute_result",
          "data": {
            "text/plain": [
              "{101: 'India', 'B': 'MallaReddyUniversity', 102: 'Hyderabad'}"
            ]
          },
          "metadata": {},
          "execution_count": 54
        }
      ]
    },
    {
      "cell_type": "code",
      "source": [
        "d.values()"
      ],
      "metadata": {
        "colab": {
          "base_uri": "https://localhost:8080/"
        },
        "id": "PcbPkyEqbg9o",
        "outputId": "a1459620-9f53-4781-ba84-b85797d5cc19"
      },
      "execution_count": null,
      "outputs": [
        {
          "output_type": "execute_result",
          "data": {
            "text/plain": [
              "dict_values(['India', 'MallaReddyUniversity', 'Hyderabad'])"
            ]
          },
          "metadata": {},
          "execution_count": 55
        }
      ]
    },
    {
      "cell_type": "code",
      "source": [
        "d.keys()"
      ],
      "metadata": {
        "colab": {
          "base_uri": "https://localhost:8080/"
        },
        "id": "kpQPipvlby7p",
        "outputId": "8179f5a3-aee7-437c-9a2d-f3e14bd4cb83"
      },
      "execution_count": null,
      "outputs": [
        {
          "output_type": "execute_result",
          "data": {
            "text/plain": [
              "dict_keys([101, 'B', 102])"
            ]
          },
          "metadata": {},
          "execution_count": 56
        }
      ]
    },
    {
      "cell_type": "code",
      "source": [
        "d.items()"
      ],
      "metadata": {
        "colab": {
          "base_uri": "https://localhost:8080/"
        },
        "id": "9xXbFp9Db30q",
        "outputId": "4dcbe76d-704a-4512-8516-013d3c60c9bc"
      },
      "execution_count": null,
      "outputs": [
        {
          "output_type": "execute_result",
          "data": {
            "text/plain": [
              "dict_items([(101, 'India'), ('B', 'MallaReddyUniversity'), (102, 'Hyderabad')])"
            ]
          },
          "metadata": {},
          "execution_count": 57
        }
      ]
    },
    {
      "cell_type": "code",
      "source": [
        "d"
      ],
      "metadata": {
        "colab": {
          "base_uri": "https://localhost:8080/"
        },
        "id": "SCMIdoOlcmRW",
        "outputId": "70487753-f11a-48ed-bfce-55aad1686567"
      },
      "execution_count": null,
      "outputs": [
        {
          "output_type": "execute_result",
          "data": {
            "text/plain": [
              "{101: 'India', 'B': 'MallaReddyUniversity', 102: 'Hyderabad'}"
            ]
          },
          "metadata": {},
          "execution_count": 58
        }
      ]
    },
    {
      "cell_type": "code",
      "source": [
        "type(d)"
      ],
      "metadata": {
        "colab": {
          "base_uri": "https://localhost:8080/"
        },
        "id": "Si_RMnQTcm92",
        "outputId": "1e6d7cb9-3e1c-4f9d-a2f1-4e038b448ef0"
      },
      "execution_count": null,
      "outputs": [
        {
          "output_type": "execute_result",
          "data": {
            "text/plain": [
              "dict"
            ]
          },
          "metadata": {},
          "execution_count": 59
        }
      ]
    },
    {
      "cell_type": "code",
      "source": [
        "type(d[102])"
      ],
      "metadata": {
        "colab": {
          "base_uri": "https://localhost:8080/"
        },
        "id": "EARanFZidSPI",
        "outputId": "51c3df16-a95f-438e-96bd-296d1cfbdbde"
      },
      "execution_count": null,
      "outputs": [
        {
          "output_type": "execute_result",
          "data": {
            "text/plain": [
              "str"
            ]
          },
          "metadata": {},
          "execution_count": 60
        }
      ]
    },
    {
      "cell_type": "code",
      "source": [
        "d.update({102:(30,40,50,60,70)})"
      ],
      "metadata": {
        "id": "eHhB_c5EdVHp"
      },
      "execution_count": null,
      "outputs": []
    },
    {
      "cell_type": "code",
      "source": [
        "d"
      ],
      "metadata": {
        "colab": {
          "base_uri": "https://localhost:8080/"
        },
        "id": "12WfH15Sd5Es",
        "outputId": "07855def-501f-4b97-a043-908793d68ae7"
      },
      "execution_count": null,
      "outputs": [
        {
          "output_type": "execute_result",
          "data": {
            "text/plain": [
              "{101: 'India', 'B': 'MallaReddyUniversity', 102: (30, 40, 50, 60, 70)}"
            ]
          },
          "metadata": {},
          "execution_count": 62
        }
      ]
    },
    {
      "cell_type": "code",
      "source": [
        "d[101]"
      ],
      "metadata": {
        "colab": {
          "base_uri": "https://localhost:8080/",
          "height": 35
        },
        "id": "O9DraDlAd54U",
        "outputId": "cc58aefa-f2eb-46f6-b397-d87d478a329c"
      },
      "execution_count": null,
      "outputs": [
        {
          "output_type": "execute_result",
          "data": {
            "text/plain": [
              "'India'"
            ],
            "application/vnd.google.colaboratory.intrinsic+json": {
              "type": "string"
            }
          },
          "metadata": {},
          "execution_count": 63
        }
      ]
    },
    {
      "cell_type": "code",
      "source": [
        "d[101]={50:[7,8,9,10],'apple':(20,10,70,[90,180,270])}"
      ],
      "metadata": {
        "id": "Z72EiVPreAPU"
      },
      "execution_count": null,
      "outputs": []
    },
    {
      "cell_type": "code",
      "source": [
        "d"
      ],
      "metadata": {
        "colab": {
          "base_uri": "https://localhost:8080/"
        },
        "id": "nmJz-17Oe3kQ",
        "outputId": "0f027827-e9d9-4936-b415-29b945dad058"
      },
      "execution_count": null,
      "outputs": [
        {
          "output_type": "execute_result",
          "data": {
            "text/plain": [
              "{101: {50: [7, 8, 9, 10], 'apple': (20, 10, 70, [90, 180, 270])},\n",
              " 'B': 'MallaReddyUniversity',\n",
              " 102: (30, 40, 50, 60, 70)}"
            ]
          },
          "metadata": {},
          "execution_count": 68
        }
      ]
    },
    {
      "cell_type": "code",
      "source": [
        "d[105]=[50]"
      ],
      "metadata": {
        "id": "aAhFdbxRfgQ8"
      },
      "execution_count": null,
      "outputs": []
    },
    {
      "cell_type": "code",
      "source": [
        "d"
      ],
      "metadata": {
        "colab": {
          "base_uri": "https://localhost:8080/"
        },
        "id": "UzwBzttNftA7",
        "outputId": "471d8b2e-6eca-4593-9288-829a3c06401e"
      },
      "execution_count": null,
      "outputs": [
        {
          "output_type": "execute_result",
          "data": {
            "text/plain": [
              "{101: {50: [7, 8, 9, 10], 'apple': (20, 10, 70, [90, 180, 270])},\n",
              " 'B': 'MallaReddyUniversity',\n",
              " 102: (30, 40, 50, 60, 70),\n",
              " 105: [50]}"
            ]
          },
          "metadata": {},
          "execution_count": 70
        }
      ]
    },
    {
      "cell_type": "code",
      "source": [
        "d[105]={'a':{30,50,70},'b':(1000,5000,7000,9000),'c':['K',{'L':[11,22],'M':(77,88)},'N']}"
      ],
      "metadata": {
        "id": "_uHKQp2wfuK9"
      },
      "execution_count": null,
      "outputs": []
    },
    {
      "cell_type": "code",
      "source": [
        "d"
      ],
      "metadata": {
        "colab": {
          "base_uri": "https://localhost:8080/"
        },
        "id": "pKJ4g-cege5f",
        "outputId": "187675f2-c036-45d9-8de7-7c1aaf112aa9"
      },
      "execution_count": null,
      "outputs": [
        {
          "output_type": "execute_result",
          "data": {
            "text/plain": [
              "{101: {50: [7, 8, 9, 10], 'apple': (20, 10, 70, [90, 180, 270])},\n",
              " 'B': 'MallaReddyUniversity',\n",
              " 102: (30, 40, 50, 60, 70),\n",
              " 105: {'a': {30, 50, 70},\n",
              "  'b': (1000, 5000, 7000, 9000),\n",
              "  'c': ['K', {'L': [11, 22], 'M': (77, 88)}, 'N']}}"
            ]
          },
          "metadata": {},
          "execution_count": 74
        }
      ]
    },
    {
      "cell_type": "code",
      "source": [
        "del d['B']"
      ],
      "metadata": {
        "id": "2pawq2z3hAmo"
      },
      "execution_count": null,
      "outputs": []
    },
    {
      "cell_type": "code",
      "source": [
        "d"
      ],
      "metadata": {
        "colab": {
          "base_uri": "https://localhost:8080/"
        },
        "id": "y3BeS53RhQW5",
        "outputId": "63de93db-18d4-4d0d-bd56-20d886445528"
      },
      "execution_count": null,
      "outputs": [
        {
          "output_type": "execute_result",
          "data": {
            "text/plain": [
              "{101: {50: [7, 8, 9, 10], 'apple': (20, 10, 70, [90, 180, 270])},\n",
              " 102: (30, 40, 50, 60, 70),\n",
              " 105: {'a': {30, 50, 70},\n",
              "  'b': (1000, 5000, 7000, 9000),\n",
              "  'c': ['K', {'L': [11, 22], 'M': (77, 88)}, 'N']}}"
            ]
          },
          "metadata": {},
          "execution_count": 79
        }
      ]
    },
    {
      "cell_type": "code",
      "source": [
        "d[101]"
      ],
      "metadata": {
        "colab": {
          "base_uri": "https://localhost:8080/"
        },
        "id": "oB-vU0XJhcjb",
        "outputId": "c0b16f4e-15df-485f-8012-f18b9167d0ad"
      },
      "execution_count": null,
      "outputs": [
        {
          "output_type": "execute_result",
          "data": {
            "text/plain": [
              "{50: [7, 8, 9, 10], 'apple': (20, 10, 70, [90, 180, 270])}"
            ]
          },
          "metadata": {},
          "execution_count": 81
        }
      ]
    },
    {
      "cell_type": "code",
      "source": [
        "d.update({106:'India'})"
      ],
      "metadata": {
        "id": "TrhK7fQNiPfk"
      },
      "execution_count": null,
      "outputs": []
    },
    {
      "cell_type": "code",
      "source": [
        "d"
      ],
      "metadata": {
        "colab": {
          "base_uri": "https://localhost:8080/"
        },
        "id": "1HvhSL_sin6-",
        "outputId": "d25b26fb-9a1b-4e2a-c64e-90a0ed05c96f"
      },
      "execution_count": null,
      "outputs": [
        {
          "output_type": "execute_result",
          "data": {
            "text/plain": [
              "{101: {50: [7, 8, 9, 10], 'apple': (20, 10, 70, [90, 180, 270])},\n",
              " 102: (30, 40, 50, 60, 70),\n",
              " 105: {'a': {30, 50, 70},\n",
              "  'b': (1000, 5000, 7000, 9000),\n",
              "  'c': ['K', {'L': [11, 22], 'M': (77, 88)}, 'N']},\n",
              " 106: 'India'}"
            ]
          },
          "metadata": {},
          "execution_count": 83
        }
      ]
    },
    {
      "cell_type": "code",
      "source": [
        "d.update({104:[1000,5000,6000,7000,56]})"
      ],
      "metadata": {
        "id": "v-WaKvptio0O"
      },
      "execution_count": null,
      "outputs": []
    },
    {
      "cell_type": "code",
      "source": [
        "d"
      ],
      "metadata": {
        "colab": {
          "base_uri": "https://localhost:8080/"
        },
        "id": "GQxCtXWBizOf",
        "outputId": "8e6794cc-3882-4dcb-e98d-29d99772aae0"
      },
      "execution_count": null,
      "outputs": [
        {
          "output_type": "execute_result",
          "data": {
            "text/plain": [
              "{101: {50: [7, 8, 9, 10], 'apple': (20, 10, 70, [90, 180, 270])},\n",
              " 102: (30, 40, 50, 60, 70),\n",
              " 105: {'a': {30, 50, 70},\n",
              "  'b': (1000, 5000, 7000, 9000),\n",
              "  'c': ['K', {'L': [11, 22], 'M': (77, 88)}, 'N']},\n",
              " 106: 'India',\n",
              " 104: [1000, 5000, 6000, 7000, 56]}"
            ]
          },
          "metadata": {},
          "execution_count": 85
        }
      ]
    },
    {
      "cell_type": "code",
      "source": [
        "d.update({103: (30,40,50,60,70)})"
      ],
      "metadata": {
        "id": "RJYP6io8izxn"
      },
      "execution_count": null,
      "outputs": []
    },
    {
      "cell_type": "code",
      "source": [
        "d"
      ],
      "metadata": {
        "colab": {
          "base_uri": "https://localhost:8080/"
        },
        "id": "7T-sbqZ0i7hO",
        "outputId": "717f6fec-d36e-4038-9929-e9da4aeb0829"
      },
      "execution_count": null,
      "outputs": [
        {
          "output_type": "execute_result",
          "data": {
            "text/plain": [
              "{101: {50: [7, 8, 9, 10], 'apple': (20, 10, 70, [90, 180, 270])},\n",
              " 102: (30, 40, 50, 60, 70),\n",
              " 105: {'a': {30, 50, 70},\n",
              "  'b': (1000, 5000, 7000, 9000),\n",
              "  'c': ['K', {'L': [11, 22], 'M': (77, 88)}, 'N']},\n",
              " 106: 'India',\n",
              " 104: [1000, 5000, 6000, 7000, 56],\n",
              " 103: (30, 40, 50, 60, 70)}"
            ]
          },
          "metadata": {},
          "execution_count": 87
        }
      ]
    },
    {
      "cell_type": "code",
      "source": [
        "d[101]['apple'][3]"
      ],
      "metadata": {
        "colab": {
          "base_uri": "https://localhost:8080/"
        },
        "id": "GxCswKKIi8D_",
        "outputId": "4c93ab8b-914b-4ff9-d058-bc4e7c240d35"
      },
      "execution_count": null,
      "outputs": [
        {
          "output_type": "execute_result",
          "data": {
            "text/plain": [
              "[90, 180, 270]"
            ]
          },
          "metadata": {},
          "execution_count": 90
        }
      ]
    },
    {
      "cell_type": "code",
      "source": [
        "d[101]"
      ],
      "metadata": {
        "id": "Nol0LFKujB8X",
        "outputId": "afce21cc-f87e-4f9b-a3c2-94a55d66ba15",
        "colab": {
          "base_uri": "https://localhost:8080/"
        }
      },
      "execution_count": null,
      "outputs": [
        {
          "output_type": "execute_result",
          "data": {
            "text/plain": [
              "{50: [7, 8, 9, 10], 'apple': (20, 10, 70, [90, 180, 270])}"
            ]
          },
          "metadata": {},
          "execution_count": 91
        }
      ]
    },
    {
      "cell_type": "code",
      "source": [],
      "metadata": {
        "id": "MOMdTAGojEa3"
      },
      "execution_count": null,
      "outputs": []
    }
  ]
}