{
 "cells": [
  {
   "cell_type": "markdown",
   "id": "766b8f6e-185c-4de5-80b6-2e853f0b121f",
   "metadata": {},
   "source": [
    "# for"
   ]
  },
  {
   "cell_type": "code",
   "execution_count": null,
   "id": "2b753dba-f312-434d-9dd1-4ca3198b1a57",
   "metadata": {},
   "outputs": [],
   "source": []
  },
  {
   "cell_type": "code",
   "execution_count": null,
   "id": "d287e510-22a3-4011-bedd-d44f0d2b493d",
   "metadata": {},
   "outputs": [],
   "source": []
  },
  {
   "cell_type": "markdown",
   "id": "17c1946b-9659-4db3-9876-18770eb80ed6",
   "metadata": {},
   "source": [
    "# While"
   ]
  },
  {
   "cell_type": "code",
   "execution_count": 10,
   "id": "1258dd4a-0404-45b1-ac9d-dfb6a13de011",
   "metadata": {},
   "outputs": [
    {
     "name": "stdout",
     "output_type": "stream",
     "text": [
      "data\n",
      "data\n",
      "data\n",
      "data\n",
      "data\n",
      "data\n"
     ]
    }
   ],
   "source": [
    "print('data')\n",
    "print('data')\n",
    "print('data')\n",
    "print('data')\n",
    "print('data')\n",
    "print('data')"
   ]
  },
  {
   "cell_type": "code",
   "execution_count": 3,
   "id": "76a83f2a-a9cb-4964-97ff-497d8af7bbae",
   "metadata": {},
   "outputs": [],
   "source": [
    "x=5\n",
    "while x>10:\n",
    "    print('Yes')"
   ]
  },
  {
   "cell_type": "code",
   "execution_count": 5,
   "id": "beda730a-4f9a-4f47-8952-3ab492970585",
   "metadata": {},
   "outputs": [
    {
     "data": {
      "text/plain": [
       "5"
      ]
     },
     "execution_count": 5,
     "metadata": {},
     "output_type": "execute_result"
    }
   ],
   "source": [
    "x"
   ]
  },
  {
   "cell_type": "code",
   "execution_count": 7,
   "id": "9899eb6b-5bab-4dee-86ae-931ac27de87d",
   "metadata": {},
   "outputs": [
    {
     "name": "stdout",
     "output_type": "stream",
     "text": [
      "Yes 5\n",
      "Yes 6\n",
      "Yes 7\n",
      "Yes 8\n",
      "Yes 9\n"
     ]
    }
   ],
   "source": [
    "x=5\n",
    "while x<10:\n",
    "    print('Yes',x)\n",
    "    x=x+1"
   ]
  },
  {
   "cell_type": "code",
   "execution_count": 9,
   "id": "01fb7fbd-0a42-4fe1-b215-77a0c39c9d54",
   "metadata": {},
   "outputs": [],
   "source": [
    "y=[4,2,8,5,3,6,9]"
   ]
  },
  {
   "cell_type": "code",
   "execution_count": 11,
   "id": "d1b61321-bc61-4c62-a03c-f0fb5cbc395d",
   "metadata": {},
   "outputs": [
    {
     "data": {
      "text/plain": [
       "[4, 2, 8, 5, 3, 6, 9]"
      ]
     },
     "execution_count": 11,
     "metadata": {},
     "output_type": "execute_result"
    }
   ],
   "source": [
    "y"
   ]
  },
  {
   "cell_type": "code",
   "execution_count": 13,
   "id": "c5cc3ad8-7d42-4378-90b4-5a59e4895dc5",
   "metadata": {},
   "outputs": [
    {
     "data": {
      "text/plain": [
       "[3, 44, 5, 7, 8, 99]"
      ]
     },
     "execution_count": 13,
     "metadata": {},
     "output_type": "execute_result"
    }
   ],
   "source": [
    "y=[3,44,5,7,8,99]\n",
    "y"
   ]
  },
  {
   "cell_type": "code",
   "execution_count": 17,
   "id": "9e5ac6f5-31fd-4b2b-962c-b46d5e8ca349",
   "metadata": {},
   "outputs": [
    {
     "name": "stdout",
     "output_type": "stream",
     "text": [
      "[3, 44, 5, 7, 8, 99]\n"
     ]
    }
   ],
   "source": [
    "print(y)"
   ]
  },
  {
   "cell_type": "code",
   "execution_count": 19,
   "id": "20509cce-1abe-4174-87fd-8538ad95dc4a",
   "metadata": {},
   "outputs": [
    {
     "name": "stdout",
     "output_type": "stream",
     "text": [
      "255\n",
      "3740\n",
      "425\n",
      "595\n",
      "680\n",
      "8415\n"
     ]
    }
   ],
   "source": [
    "for t in y:\n",
    "    print(t*85)"
   ]
  },
  {
   "cell_type": "code",
   "execution_count": 21,
   "id": "b1ad6d7e-d60b-4919-b5be-75ef5da8093e",
   "metadata": {},
   "outputs": [
    {
     "name": "stdout",
     "output_type": "stream",
     "text": [
      "30\n",
      "440\n",
      "50\n",
      "70\n",
      "80\n",
      "990\n"
     ]
    }
   ],
   "source": [
    "for t in y:\n",
    "    print(t*10)"
   ]
  },
  {
   "cell_type": "code",
   "execution_count": 23,
   "id": "7115a72f-b4ea-4b94-84df-4d384ee93fae",
   "metadata": {},
   "outputs": [
    {
     "name": "stdout",
     "output_type": "stream",
     "text": [
      "265\n",
      "3750\n",
      "435\n",
      "605\n",
      "690\n",
      "8425\n"
     ]
    }
   ],
   "source": [
    "for t in y:\n",
    "    print(t*85+10)"
   ]
  },
  {
   "cell_type": "code",
   "execution_count": 33,
   "id": "4df6c2d3-6d01-4a2f-9892-8b60d12441e7",
   "metadata": {},
   "outputs": [],
   "source": [
    "z=[]\n",
    "for i in y:\n",
    "    z.append(i*5+10)\n",
    "    "
   ]
  },
  {
   "cell_type": "code",
   "execution_count": 35,
   "id": "4c916c29-5c5d-4434-a87f-fa3c60d4dad5",
   "metadata": {},
   "outputs": [
    {
     "data": {
      "text/plain": [
       "[25, 230, 35, 45, 50, 505]"
      ]
     },
     "execution_count": 35,
     "metadata": {},
     "output_type": "execute_result"
    }
   ],
   "source": [
    "z"
   ]
  },
  {
   "cell_type": "code",
   "execution_count": 1,
   "id": "78f8e795-72ec-402a-bcf9-02e96b108966",
   "metadata": {},
   "outputs": [
    {
     "data": {
      "text/plain": [
       "[31, 45, 66, 33, 90, 78, 67, 87, 89, 93, 25, 59, 9, 81]"
      ]
     },
     "execution_count": 1,
     "metadata": {},
     "output_type": "execute_result"
    }
   ],
   "source": [
    "num=[31,45,66,33,90,78,67,87,89,93,25,59,9,81]\n",
    "num"
   ]
  },
  {
   "cell_type": "code",
   "execution_count": 5,
   "id": "7b8966e7-7a9f-478f-8221-475938974c78",
   "metadata": {},
   "outputs": [],
   "source": [
    "num=[31,45,66,33,90,78,67,87,89,93,25,59,9,81]\n",
    "odd_num=[n for n in num if n % 2 != 0]\n",
    "even_num=[n for n in num if n % 2 == 0]"
   ]
  },
  {
   "cell_type": "code",
   "execution_count": 7,
   "id": "bd455eb8-a86b-4b1e-a106-89b9f7650510",
   "metadata": {},
   "outputs": [
    {
     "data": {
      "text/plain": [
       "[31, 45, 33, 67, 87, 89, 93, 25, 59, 9, 81]"
      ]
     },
     "execution_count": 7,
     "metadata": {},
     "output_type": "execute_result"
    }
   ],
   "source": [
    "odd_num"
   ]
  },
  {
   "cell_type": "code",
   "execution_count": 9,
   "id": "3b6a538e-38cf-4557-b300-fdf0b9585199",
   "metadata": {},
   "outputs": [
    {
     "data": {
      "text/plain": [
       "[66, 90, 78]"
      ]
     },
     "execution_count": 9,
     "metadata": {},
     "output_type": "execute_result"
    }
   ],
   "source": [
    "even_num"
   ]
  },
  {
   "cell_type": "code",
   "execution_count": 11,
   "id": "dd8707a9-af93-4018-b9b0-4a3ae084e1be",
   "metadata": {},
   "outputs": [],
   "source": [
    "l=[]\n",
    "k=[]\n",
    "for i in num:\n",
    "    if i%2==0:\n",
    "        l.append(i)\n",
    "    else:\n",
    "        k.append(i)"
   ]
  },
  {
   "cell_type": "code",
   "execution_count": 13,
   "id": "34061f8d-df03-4ff8-b2e3-97896d916789",
   "metadata": {},
   "outputs": [
    {
     "data": {
      "text/plain": [
       "[66, 90, 78]"
      ]
     },
     "execution_count": 13,
     "metadata": {},
     "output_type": "execute_result"
    }
   ],
   "source": [
    "l"
   ]
  },
  {
   "cell_type": "code",
   "execution_count": 15,
   "id": "8a603e9e-7e31-4680-be1a-0c48d263c1f7",
   "metadata": {},
   "outputs": [
    {
     "data": {
      "text/plain": [
       "[31, 45, 33, 67, 87, 89, 93, 25, 59, 9, 81]"
      ]
     },
     "execution_count": 15,
     "metadata": {},
     "output_type": "execute_result"
    }
   ],
   "source": [
    "k"
   ]
  },
  {
   "cell_type": "code",
   "execution_count": 17,
   "id": "5d8fc57c-915a-434b-90f5-9d304480ef61",
   "metadata": {},
   "outputs": [
    {
     "data": {
      "text/plain": [
       "[31, 45, 66, 33, 90, 78, 67, 87, 89, 93, 25, 59, 9, 81]"
      ]
     },
     "execution_count": 17,
     "metadata": {},
     "output_type": "execute_result"
    }
   ],
   "source": [
    "num"
   ]
  },
  {
   "cell_type": "code",
   "execution_count": 19,
   "id": "d520d188-e2a6-49b3-a478-9e1b9b19fb56",
   "metadata": {},
   "outputs": [],
   "source": [
    "t=str('31')\n"
   ]
  },
  {
   "cell_type": "code",
   "execution_count": 21,
   "id": "4d4039e8-1616-49db-8f36-43e9f2909142",
   "metadata": {},
   "outputs": [
    {
     "data": {
      "text/plain": [
       "'31'"
      ]
     },
     "execution_count": 21,
     "metadata": {},
     "output_type": "execute_result"
    }
   ],
   "source": [
    "t"
   ]
  },
  {
   "cell_type": "code",
   "execution_count": 27,
   "id": "e0d94142-dac9-48d1-a1f3-0aba12e33a36",
   "metadata": {},
   "outputs": [],
   "source": [
    "h=[]\n",
    "for i in num:\n",
    "    a=str(i)\n",
    "    b=a.replace('8','5')\n",
    "    c=int(b)\n",
    "    h.append(c)"
   ]
  },
  {
   "cell_type": "code",
   "execution_count": 29,
   "id": "75bee654-483e-472c-8000-79a8ed5c763d",
   "metadata": {},
   "outputs": [
    {
     "data": {
      "text/plain": [
       "[31, 45, 66, 33, 90, 75, 67, 57, 59, 93, 25, 59, 9, 51]"
      ]
     },
     "execution_count": 29,
     "metadata": {},
     "output_type": "execute_result"
    }
   ],
   "source": [
    "h"
   ]
  },
  {
   "cell_type": "code",
   "execution_count": null,
   "id": "cfc5ce0a-2398-472d-9bfe-64fdba75c9e9",
   "metadata": {},
   "outputs": [],
   "source": []
  }
 ],
 "metadata": {
  "kernelspec": {
   "display_name": "Python [conda env:base] *",
   "language": "python",
   "name": "conda-base-py"
  },
  "language_info": {
   "codemirror_mode": {
    "name": "ipython",
    "version": 3
   },
   "file_extension": ".py",
   "mimetype": "text/x-python",
   "name": "python",
   "nbconvert_exporter": "python",
   "pygments_lexer": "ipython3",
   "version": "3.12.7"
  }
 },
 "nbformat": 4,
 "nbformat_minor": 5
}
